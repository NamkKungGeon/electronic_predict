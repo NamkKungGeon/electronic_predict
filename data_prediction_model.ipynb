{
 "cells": [
  {
   "cell_type": "markdown",
   "id": "358efe06-3821-41ff-b042-21d52c26f212",
   "metadata": {},
   "source": [
    "### 시계열 예측 모델 종류"
   ]
  },
  {
   "cell_type": "markdown",
   "id": "24e0e59f-9c3e-4baf-ba5d-ddfcead123b8",
   "metadata": {},
   "source": [
    "##### 1. ARIMA\n",
    "##### 2. SARIMA\n",
    "##### 3. Prophet\n",
    "##### 4. LSTM\n",
    "##### 5. XGBoost"
   ]
  },
  {
   "cell_type": "code",
   "execution_count": null,
   "id": "d39b4fff-b5b2-47a3-bf7d-15e224a5a5eb",
   "metadata": {},
   "outputs": [],
   "source": []
  }
 ],
 "metadata": {
  "kernelspec": {
   "display_name": "Python 3 (ipykernel)",
   "language": "python",
   "name": "python3"
  },
  "language_info": {
   "codemirror_mode": {
    "name": "ipython",
    "version": 3
   },
   "file_extension": ".py",
   "mimetype": "text/x-python",
   "name": "python",
   "nbconvert_exporter": "python",
   "pygments_lexer": "ipython3",
   "version": "3.11.7"
  }
 },
 "nbformat": 4,
 "nbformat_minor": 5
}
