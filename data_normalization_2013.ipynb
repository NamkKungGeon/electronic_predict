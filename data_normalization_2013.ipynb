{
 "cells": [
  {
   "cell_type": "markdown",
   "id": "9a6237de-9237-491f-b33d-afba37034af7",
   "metadata": {},
   "source": [
    "### 모듈 불러오기"
   ]
  },
  {
   "cell_type": "code",
   "execution_count": 1,
   "id": "a0ce4807-637b-4b61-898a-394191518693",
   "metadata": {},
   "outputs": [],
   "source": [
    "import pandas as pd\n",
    "from pandas import Series, DataFrame\n",
    "import numpy as np\n",
    "import matplotlib.pyplot as plt\n",
    "from scipy import stats\n",
    "from scipy.stats import boxcox\n",
    "from scipy.stats import yeojohnson\n",
    "from sklearn.preprocessing import StandardScaler\n",
    "from sklearn.preprocessing import MinMaxScaler\n",
    "from sklearn.preprocessing import RobustScaler\n",
    "import seaborn as sns"
   ]
  },
  {
   "cell_type": "markdown",
   "id": "959d77e4-bcaa-467f-aa35-418045e56fab",
   "metadata": {},
   "source": [
    "### 데이터 불러오기"
   ]
  },
  {
   "cell_type": "code",
   "execution_count": 2,
   "id": "c8d7734a-df73-4986-9b6e-0b259638f39e",
   "metadata": {
    "scrolled": true
   },
   "outputs": [
    {
     "data": {
      "text/html": [
       "<div>\n",
       "<style scoped>\n",
       "    .dataframe tbody tr th:only-of-type {\n",
       "        vertical-align: middle;\n",
       "    }\n",
       "\n",
       "    .dataframe tbody tr th {\n",
       "        vertical-align: top;\n",
       "    }\n",
       "\n",
       "    .dataframe thead th {\n",
       "        text-align: right;\n",
       "    }\n",
       "</style>\n",
       "<table border=\"1\" class=\"dataframe\">\n",
       "  <thead>\n",
       "    <tr style=\"text-align: right;\">\n",
       "      <th></th>\n",
       "      <th>Year-Month-Date</th>\n",
       "      <th>Time</th>\n",
       "      <th>Watt</th>\n",
       "      <th>Temp('C)</th>\n",
       "      <th>Humidity(%)</th>\n",
       "    </tr>\n",
       "  </thead>\n",
       "  <tbody>\n",
       "    <tr>\n",
       "      <th>0</th>\n",
       "      <td>2013-01-01</td>\n",
       "      <td>[ 00:00 ]</td>\n",
       "      <td>522.0</td>\n",
       "      <td>10.0</td>\n",
       "      <td>87.000</td>\n",
       "    </tr>\n",
       "    <tr>\n",
       "      <th>1</th>\n",
       "      <td>2013-01-01</td>\n",
       "      <td>[ 00:01 ]</td>\n",
       "      <td>558.0</td>\n",
       "      <td>10.0</td>\n",
       "      <td>86.833</td>\n",
       "    </tr>\n",
       "    <tr>\n",
       "      <th>2</th>\n",
       "      <td>2013-01-01</td>\n",
       "      <td>[ 00:02 ]</td>\n",
       "      <td>537.0</td>\n",
       "      <td>10.0</td>\n",
       "      <td>86.667</td>\n",
       "    </tr>\n",
       "    <tr>\n",
       "      <th>3</th>\n",
       "      <td>2013-01-01</td>\n",
       "      <td>[ 00:03 ]</td>\n",
       "      <td>525.0</td>\n",
       "      <td>10.0</td>\n",
       "      <td>86.500</td>\n",
       "    </tr>\n",
       "    <tr>\n",
       "      <th>4</th>\n",
       "      <td>2013-01-01</td>\n",
       "      <td>[ 00:04 ]</td>\n",
       "      <td>539.0</td>\n",
       "      <td>10.0</td>\n",
       "      <td>86.333</td>\n",
       "    </tr>\n",
       "    <tr>\n",
       "      <th>...</th>\n",
       "      <td>...</td>\n",
       "      <td>...</td>\n",
       "      <td>...</td>\n",
       "      <td>...</td>\n",
       "      <td>...</td>\n",
       "    </tr>\n",
       "    <tr>\n",
       "      <th>525595</th>\n",
       "      <td>2013-12-31</td>\n",
       "      <td>[ 23:55 ]</td>\n",
       "      <td>401.0</td>\n",
       "      <td>8.0</td>\n",
       "      <td>81.000</td>\n",
       "    </tr>\n",
       "    <tr>\n",
       "      <th>525596</th>\n",
       "      <td>2013-12-31</td>\n",
       "      <td>[ 23:56 ]</td>\n",
       "      <td>400.0</td>\n",
       "      <td>8.0</td>\n",
       "      <td>81.000</td>\n",
       "    </tr>\n",
       "    <tr>\n",
       "      <th>525597</th>\n",
       "      <td>2013-12-31</td>\n",
       "      <td>[ 23:57 ]</td>\n",
       "      <td>400.0</td>\n",
       "      <td>8.0</td>\n",
       "      <td>81.000</td>\n",
       "    </tr>\n",
       "    <tr>\n",
       "      <th>525598</th>\n",
       "      <td>2013-12-31</td>\n",
       "      <td>[ 23:58 ]</td>\n",
       "      <td>497.0</td>\n",
       "      <td>8.0</td>\n",
       "      <td>81.000</td>\n",
       "    </tr>\n",
       "    <tr>\n",
       "      <th>525599</th>\n",
       "      <td>2013-12-31</td>\n",
       "      <td>[ 23:59 ]</td>\n",
       "      <td>493.0</td>\n",
       "      <td>8.0</td>\n",
       "      <td>81.000</td>\n",
       "    </tr>\n",
       "  </tbody>\n",
       "</table>\n",
       "<p>525600 rows × 5 columns</p>\n",
       "</div>"
      ],
      "text/plain": [
       "       Year-Month-Date       Time   Watt  Temp('C)  Humidity(%)\n",
       "0           2013-01-01  [ 00:00 ]  522.0      10.0       87.000\n",
       "1           2013-01-01  [ 00:01 ]  558.0      10.0       86.833\n",
       "2           2013-01-01  [ 00:02 ]  537.0      10.0       86.667\n",
       "3           2013-01-01  [ 00:03 ]  525.0      10.0       86.500\n",
       "4           2013-01-01  [ 00:04 ]  539.0      10.0       86.333\n",
       "...                ...        ...    ...       ...          ...\n",
       "525595      2013-12-31  [ 23:55 ]  401.0       8.0       81.000\n",
       "525596      2013-12-31  [ 23:56 ]  400.0       8.0       81.000\n",
       "525597      2013-12-31  [ 23:57 ]  400.0       8.0       81.000\n",
       "525598      2013-12-31  [ 23:58 ]  497.0       8.0       81.000\n",
       "525599      2013-12-31  [ 23:59 ]  493.0       8.0       81.000\n",
       "\n",
       "[525600 rows x 5 columns]"
      ]
     },
     "execution_count": 2,
     "metadata": {},
     "output_type": "execute_result"
    }
   ],
   "source": [
    "df = pd.read_csv(\"C:/Users/gun67/전력 프로젝트/preprocessing_data/2013_preprocessing_data\", encoding = \"utf-8-sig\")\n",
    "df"
   ]
  },
  {
   "cell_type": "markdown",
   "id": "788bda6c-db5a-4201-993a-81c75bc400a9",
   "metadata": {},
   "source": [
    "### Min-Max 스케일링  \n",
    "##### 데이터의 최솟값을 0, 최댓값을 1로 변환 ; 데이터의 분포를 유지하면서 스케일을 변경"
   ]
  },
  {
   "cell_type": "code",
   "execution_count": 3,
   "id": "9a090050-f414-4218-a6d0-74d145ac99d1",
   "metadata": {},
   "outputs": [
    {
     "name": "stdout",
     "output_type": "stream",
     "text": [
      "       Year-Month-Date       Time  Watt_minmax  Temp('C)_minmax  \\\n",
      "0           2013-01-01  [ 00:00 ]     0.055667         0.378378   \n",
      "1           2013-01-01  [ 00:01 ]     0.060181         0.378378   \n",
      "2           2013-01-01  [ 00:02 ]     0.057548         0.378378   \n",
      "3           2013-01-01  [ 00:03 ]     0.056043         0.378378   \n",
      "4           2013-01-01  [ 00:04 ]     0.057798         0.378378   \n",
      "...                ...        ...          ...              ...   \n",
      "525595      2013-12-31  [ 23:55 ]     0.040496         0.324324   \n",
      "525596      2013-12-31  [ 23:56 ]     0.040371         0.324324   \n",
      "525597      2013-12-31  [ 23:57 ]     0.040371         0.324324   \n",
      "525598      2013-12-31  [ 23:58 ]     0.052533         0.324324   \n",
      "525599      2013-12-31  [ 23:59 ]     0.052031         0.324324   \n",
      "\n",
      "        Humidity(%)_minmax  \n",
      "0                 0.813486  \n",
      "1                 0.811090  \n",
      "2                 0.808709  \n",
      "3                 0.806313  \n",
      "4                 0.803917  \n",
      "...                    ...  \n",
      "525595            0.727403  \n",
      "525596            0.727403  \n",
      "525597            0.727403  \n",
      "525598            0.727403  \n",
      "525599            0.727403  \n",
      "\n",
      "[525600 rows x 5 columns]\n"
     ]
    }
   ],
   "source": [
    "scaler = MinMaxScaler()\n",
    "df[\"Watt_minmax\"] = scaler.fit_transform(df[[\"Watt\"]])\n",
    "df[\"Temp('C)_minmax\"] = scaler.fit_transform(df[[\"Temp('C)\"]])\n",
    "df[\"Humidity(%)_minmax\"] = scaler.fit_transform(df[[\"Humidity(%)\"]])\n",
    "df_minmax = df[[\"Year-Month-Date\", \"Time\", \"Watt_minmax\", \"Temp('C)_minmax\", \"Humidity(%)_minmax\"]]\n",
    "print(df_minmax)"
   ]
  },
  {
   "cell_type": "markdown",
   "id": "58981852-7c13-48ae-9276-d8acd379de88",
   "metadata": {},
   "source": [
    "### 로버스트 스케일링"
   ]
  },
  {
   "cell_type": "markdown",
   "id": "429c4164-f541-4a56-88bb-d24b158c88ab",
   "metadata": {},
   "source": [
    "##### 중앙값(median)을 0, IQR을 1로 변환 ; 이상치에 덜 민감"
   ]
  },
  {
   "cell_type": "code",
   "execution_count": 4,
   "id": "4697e7e4-7a1f-45e5-92d6-e7e3e51c4649",
   "metadata": {},
   "outputs": [
    {
     "name": "stdout",
     "output_type": "stream",
     "text": [
      "       Year-Month-Date       Time  Watt_robust  Temp('C)_robust  \\\n",
      "0           2013-01-01  [ 00:00 ]     1.213538             -0.1   \n",
      "1           2013-01-01  [ 00:01 ]     1.378396             -0.1   \n",
      "2           2013-01-01  [ 00:02 ]     1.282229             -0.1   \n",
      "3           2013-01-01  [ 00:03 ]     1.227276             -0.1   \n",
      "4           2013-01-01  [ 00:04 ]     1.291388             -0.1   \n",
      "...                ...        ...          ...              ...   \n",
      "525595      2013-12-31  [ 23:55 ]     0.659432             -0.3   \n",
      "525596      2013-12-31  [ 23:56 ]     0.654853             -0.3   \n",
      "525597      2013-12-31  [ 23:57 ]     0.654853             -0.3   \n",
      "525598      2013-12-31  [ 23:58 ]     1.099053             -0.3   \n",
      "525599      2013-12-31  [ 23:59 ]     1.080736             -0.3   \n",
      "\n",
      "        Humidity(%)_robust  \n",
      "0                 0.504756  \n",
      "1                 0.496853  \n",
      "2                 0.488998  \n",
      "3                 0.481096  \n",
      "4                 0.473194  \n",
      "...                    ...  \n",
      "525595            0.220839  \n",
      "525596            0.220839  \n",
      "525597            0.220839  \n",
      "525598            0.220839  \n",
      "525599            0.220839  \n",
      "\n",
      "[525600 rows x 5 columns]\n"
     ]
    }
   ],
   "source": [
    "scaler = RobustScaler()\n",
    "df[\"Watt_robust\"] = scaler.fit_transform(df[[\"Watt\"]])\n",
    "df[\"Temp('C)_robust\"] = scaler.fit_transform(df[[\"Temp('C)\"]])\n",
    "df[\"Humidity(%)_robust\"] = scaler.fit_transform(df[[\"Humidity(%)\"]])\n",
    "df_robust = df[[\"Year-Month-Date\", \"Time\", \"Watt_robust\", \"Temp('C)_robust\", \"Humidity(%)_robust\"]]\n",
    "print(df_robust)"
   ]
  },
  {
   "cell_type": "markdown",
   "id": "b59addeb-3ab7-4ad5-85ed-1130a0e28833",
   "metadata": {},
   "source": [
    "### 로그 변환"
   ]
  },
  {
   "cell_type": "markdown",
   "id": "195e5990-81c2-4317-85b9-591eb0ded423",
   "metadata": {},
   "source": [
    "##### 데이터의 분포를 정규분포에 가깝게 만듦, 값이 0보다 클 때만 사용 가능  \n",
    "##### 온도 데이터는 값이 0보다 작거나 같을 경우가 존재하므로 다른 정규화를 사용"
   ]
  },
  {
   "cell_type": "code",
   "execution_count": 5,
   "id": "8bfa039a-9b76-4d53-8371-24f1a237ff19",
   "metadata": {},
   "outputs": [
    {
     "name": "stdout",
     "output_type": "stream",
     "text": [
      "       Year-Month-Date       Time  Watt_log  Temp('C)_minmax  Humidity(%)_log\n",
      "0           2013-01-01  [ 00:00 ]  6.259581         0.378378         4.477337\n",
      "1           2013-01-01  [ 00:01 ]  6.326149         0.378378         4.475437\n",
      "2           2013-01-01  [ 00:02 ]  6.287859         0.378378         4.473546\n",
      "3           2013-01-01  [ 00:03 ]  6.265301         0.378378         4.471639\n",
      "4           2013-01-01  [ 00:04 ]  6.291569         0.378378         4.469728\n",
      "...                ...        ...       ...              ...              ...\n",
      "525595      2013-12-31  [ 23:55 ]  5.996452         0.324324         4.406719\n",
      "525596      2013-12-31  [ 23:56 ]  5.993961         0.324324         4.406719\n",
      "525597      2013-12-31  [ 23:57 ]  5.993961         0.324324         4.406719\n",
      "525598      2013-12-31  [ 23:58 ]  6.210600         0.324324         4.406719\n",
      "525599      2013-12-31  [ 23:59 ]  6.202536         0.324324         4.406719\n",
      "\n",
      "[525600 rows x 5 columns]\n",
      "       Year-Month-Date       Time  Watt_log  Temp('C)_robust  Humidity(%)_log\n",
      "0           2013-01-01  [ 00:00 ]  6.259581             -0.1         4.477337\n",
      "1           2013-01-01  [ 00:01 ]  6.326149             -0.1         4.475437\n",
      "2           2013-01-01  [ 00:02 ]  6.287859             -0.1         4.473546\n",
      "3           2013-01-01  [ 00:03 ]  6.265301             -0.1         4.471639\n",
      "4           2013-01-01  [ 00:04 ]  6.291569             -0.1         4.469728\n",
      "...                ...        ...       ...              ...              ...\n",
      "525595      2013-12-31  [ 23:55 ]  5.996452             -0.3         4.406719\n",
      "525596      2013-12-31  [ 23:56 ]  5.993961             -0.3         4.406719\n",
      "525597      2013-12-31  [ 23:57 ]  5.993961             -0.3         4.406719\n",
      "525598      2013-12-31  [ 23:58 ]  6.210600             -0.3         4.406719\n",
      "525599      2013-12-31  [ 23:59 ]  6.202536             -0.3         4.406719\n",
      "\n",
      "[525600 rows x 5 columns]\n"
     ]
    }
   ],
   "source": [
    "df[\"Watt_log\"] = np.log(df[\"Watt\"] + 1)\n",
    "df[\"Humidity(%)_log\"] = np.log(df[\"Humidity(%)\"] + 1)\n",
    "\n",
    "# 전력값과 습도는 log 변환, 온도는 minmax 변환\n",
    "df_log_minmax = df[[\"Year-Month-Date\", \"Time\", \"Watt_log\", \"Temp('C)_minmax\", \"Humidity(%)_log\"]]\n",
    "print(df_log_minmax)\n",
    "\n",
    "# 전력값과 습도는 log 변환, 온도는 robust 변환\n",
    "df_log_robust = df[[\"Year-Month-Date\", \"Time\", \"Watt_log\", \"Temp('C)_robust\", \"Humidity(%)_log\"]]\n",
    "print(df_log_robust)"
   ]
  },
  {
   "cell_type": "markdown",
   "id": "d0ecb368-9c51-4237-95a3-eddfc7161643",
   "metadata": {},
   "source": [
    "### 제곱근 변환"
   ]
  },
  {
   "cell_type": "markdown",
   "id": "a4b7774e-baeb-4580-8d19-effcb3823b4f",
   "metadata": {},
   "source": [
    "##### 데이터의 분포를 정규분포에 가깝게 만듦, 값이 0보다 클 때만 사용 가능  \n",
    "##### 이 또한 온도 데이터는 다른 정규화를 사용"
   ]
  },
  {
   "cell_type": "code",
   "execution_count": 6,
   "id": "3012080c-11f9-4e0b-b996-e44ca8c0d4b9",
   "metadata": {},
   "outputs": [
    {
     "name": "stdout",
     "output_type": "stream",
     "text": [
      "       Year-Month-Date       Time  Watt_sqrt  Temp('C)_minmax  \\\n",
      "0           2013-01-01  [ 00:00 ]  22.847319         0.378378   \n",
      "1           2013-01-01  [ 00:01 ]  23.622024         0.378378   \n",
      "2           2013-01-01  [ 00:02 ]  23.173260         0.378378   \n",
      "3           2013-01-01  [ 00:03 ]  22.912878         0.378378   \n",
      "4           2013-01-01  [ 00:04 ]  23.216374         0.378378   \n",
      "...                ...        ...        ...              ...   \n",
      "525595      2013-12-31  [ 23:55 ]  20.024984         0.324324   \n",
      "525596      2013-12-31  [ 23:56 ]  20.000000         0.324324   \n",
      "525597      2013-12-31  [ 23:57 ]  20.000000         0.324324   \n",
      "525598      2013-12-31  [ 23:58 ]  22.293497         0.324324   \n",
      "525599      2013-12-31  [ 23:59 ]  22.203603         0.324324   \n",
      "\n",
      "        Humidity(%)_sqrt  \n",
      "0              22.847319  \n",
      "1              23.622024  \n",
      "2              23.173260  \n",
      "3              22.912878  \n",
      "4              23.216374  \n",
      "...                  ...  \n",
      "525595         20.024984  \n",
      "525596         20.000000  \n",
      "525597         20.000000  \n",
      "525598         22.293497  \n",
      "525599         22.203603  \n",
      "\n",
      "[525600 rows x 5 columns]\n",
      "       Year-Month-Date       Time  Watt_sqrt  Temp('C)_robust  \\\n",
      "0           2013-01-01  [ 00:00 ]  22.847319             -0.1   \n",
      "1           2013-01-01  [ 00:01 ]  23.622024             -0.1   \n",
      "2           2013-01-01  [ 00:02 ]  23.173260             -0.1   \n",
      "3           2013-01-01  [ 00:03 ]  22.912878             -0.1   \n",
      "4           2013-01-01  [ 00:04 ]  23.216374             -0.1   \n",
      "...                ...        ...        ...              ...   \n",
      "525595      2013-12-31  [ 23:55 ]  20.024984             -0.3   \n",
      "525596      2013-12-31  [ 23:56 ]  20.000000             -0.3   \n",
      "525597      2013-12-31  [ 23:57 ]  20.000000             -0.3   \n",
      "525598      2013-12-31  [ 23:58 ]  22.293497             -0.3   \n",
      "525599      2013-12-31  [ 23:59 ]  22.203603             -0.3   \n",
      "\n",
      "        Humidity(%)_sqrt  \n",
      "0              22.847319  \n",
      "1              23.622024  \n",
      "2              23.173260  \n",
      "3              22.912878  \n",
      "4              23.216374  \n",
      "...                  ...  \n",
      "525595         20.024984  \n",
      "525596         20.000000  \n",
      "525597         20.000000  \n",
      "525598         22.293497  \n",
      "525599         22.203603  \n",
      "\n",
      "[525600 rows x 5 columns]\n"
     ]
    }
   ],
   "source": [
    "df[\"Watt_sqrt\"] = np.sqrt(df[\"Watt\"])\n",
    "df[\"Humidity(%)_sqrt\"] = np.sqrt(df[\"Watt\"])\n",
    "\n",
    "# 전력값과 습도는 sqrt 변환, 온도는 minmax 변환\n",
    "df_sqrt_minmax = df[[\"Year-Month-Date\", \"Time\", \"Watt_sqrt\", \"Temp('C)_minmax\", \"Humidity(%)_sqrt\"]]\n",
    "print(df_sqrt_minmax)\n",
    "\n",
    "# 전력값과 습도는 sqrt 변환, 온도는 robust 변환\n",
    "df_sqrt_robust = df[[\"Year-Month-Date\", \"Time\", \"Watt_sqrt\", \"Temp('C)_robust\", \"Humidity(%)_sqrt\"]]\n",
    "print(df_sqrt_robust)"
   ]
  },
  {
   "cell_type": "code",
   "execution_count": 7,
   "id": "fd92c47e-6198-4920-9f7a-0e8d00b6aee2",
   "metadata": {},
   "outputs": [],
   "source": [
    "df_minmax.to_csv(\"C:/Users/gun67/전력 프로젝트/2013_normalization_data/2013_minmax_data\", index = False, encoding = \"utf-8-sig\")"
   ]
  },
  {
   "cell_type": "code",
   "execution_count": 8,
   "id": "659b6c9a-f0d7-4273-8fd5-e12662dbbb13",
   "metadata": {},
   "outputs": [],
   "source": [
    "df_robust.to_csv(\"C:/Users/gun67/전력 프로젝트/2013_normalization_data/2013_robust_data\", index = False, encoding = \"utf-8-sig\")"
   ]
  },
  {
   "cell_type": "code",
   "execution_count": 9,
   "id": "a73cea5a-9bd5-430d-b0c1-6354339bfa0c",
   "metadata": {},
   "outputs": [],
   "source": [
    "df_log_minmax.to_csv(\"C:/Users/gun67/전력 프로젝트/2013_normalization_data/2013_log_minmax_data\", index = False, encoding = \"utf-8-sig\")"
   ]
  },
  {
   "cell_type": "code",
   "execution_count": 10,
   "id": "9fafbef9-f3c7-4c1b-b09b-f4177001ab5a",
   "metadata": {},
   "outputs": [],
   "source": [
    "df_log_robust.to_csv(\"C:/Users/gun67/전력 프로젝트/2013_normalization_data/2013_log_robust_data\", index = False, encoding = \"utf-8-sig\")"
   ]
  },
  {
   "cell_type": "code",
   "execution_count": 11,
   "id": "f3e32a5f-6e13-4da9-acca-b1222423ede2",
   "metadata": {},
   "outputs": [],
   "source": [
    "df_sqrt_minmax.to_csv(\"C:/Users/gun67/전력 프로젝트/2013_normalization_data/2013_sqrt_minmax_data\", index = False, encoding = \"utf-8-sig\")"
   ]
  },
  {
   "cell_type": "code",
   "execution_count": 12,
   "id": "5596d714-9bb3-4f3e-9ada-dbcdbd0cde0f",
   "metadata": {},
   "outputs": [],
   "source": [
    "df_sqrt_robust.to_csv(\"C:/Users/gun67/전력 프로젝트/2013_normalization_data/2013_sqrt_robust_data\", index = False, encoding = \"utf-8-sig\")"
   ]
  }
 ],
 "metadata": {
  "kernelspec": {
   "display_name": "Python 3 (ipykernel)",
   "language": "python",
   "name": "python3"
  },
  "language_info": {
   "codemirror_mode": {
    "name": "ipython",
    "version": 3
   },
   "file_extension": ".py",
   "mimetype": "text/x-python",
   "name": "python",
   "nbconvert_exporter": "python",
   "pygments_lexer": "ipython3",
   "version": "3.11.7"
  }
 },
 "nbformat": 4,
 "nbformat_minor": 5
}
