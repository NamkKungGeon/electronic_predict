{
 "cells": [
  {
   "cell_type": "markdown",
   "id": "9a6237de-9237-491f-b33d-afba37034af7",
   "metadata": {},
   "source": [
    "### 모듈 불러오기"
   ]
  },
  {
   "cell_type": "code",
   "execution_count": 1,
   "id": "a0ce4807-637b-4b61-898a-394191518693",
   "metadata": {},
   "outputs": [],
   "source": [
    "import pandas as pd\n",
    "from pandas import Series, DataFrame\n",
    "import numpy as np\n",
    "import matplotlib.pyplot as plt\n",
    "from scipy import stats\n",
    "from scipy.stats import boxcox\n",
    "from scipy.stats import yeojohnson\n",
    "from sklearn.preprocessing import StandardScaler\n",
    "from sklearn.preprocessing import MinMaxScaler\n",
    "from sklearn.preprocessing import RobustScaler\n",
    "import seaborn as sns"
   ]
  },
  {
   "cell_type": "markdown",
   "id": "959d77e4-bcaa-467f-aa35-418045e56fab",
   "metadata": {},
   "source": [
    "### 데이터 불러오기"
   ]
  },
  {
   "cell_type": "code",
   "execution_count": 2,
   "id": "c8d7734a-df73-4986-9b6e-0b259638f39e",
   "metadata": {
    "scrolled": true
   },
   "outputs": [
    {
     "data": {
      "text/html": [
       "<div>\n",
       "<style scoped>\n",
       "    .dataframe tbody tr th:only-of-type {\n",
       "        vertical-align: middle;\n",
       "    }\n",
       "\n",
       "    .dataframe tbody tr th {\n",
       "        vertical-align: top;\n",
       "    }\n",
       "\n",
       "    .dataframe thead th {\n",
       "        text-align: right;\n",
       "    }\n",
       "</style>\n",
       "<table border=\"1\" class=\"dataframe\">\n",
       "  <thead>\n",
       "    <tr style=\"text-align: right;\">\n",
       "      <th></th>\n",
       "      <th>Year-Month-Date</th>\n",
       "      <th>Time</th>\n",
       "      <th>Watt</th>\n",
       "      <th>Temp('C)</th>\n",
       "      <th>Humidity(%)</th>\n",
       "    </tr>\n",
       "  </thead>\n",
       "  <tbody>\n",
       "    <tr>\n",
       "      <th>0</th>\n",
       "      <td>2016-01-01</td>\n",
       "      <td>[ 00:00 ]</td>\n",
       "      <td>343.0</td>\n",
       "      <td>7.000</td>\n",
       "      <td>76.000</td>\n",
       "    </tr>\n",
       "    <tr>\n",
       "      <th>1</th>\n",
       "      <td>2016-01-01</td>\n",
       "      <td>[ 00:01 ]</td>\n",
       "      <td>342.0</td>\n",
       "      <td>6.967</td>\n",
       "      <td>76.167</td>\n",
       "    </tr>\n",
       "    <tr>\n",
       "      <th>2</th>\n",
       "      <td>2016-01-01</td>\n",
       "      <td>[ 00:02 ]</td>\n",
       "      <td>345.0</td>\n",
       "      <td>6.933</td>\n",
       "      <td>76.333</td>\n",
       "    </tr>\n",
       "    <tr>\n",
       "      <th>3</th>\n",
       "      <td>2016-01-01</td>\n",
       "      <td>[ 00:03 ]</td>\n",
       "      <td>345.0</td>\n",
       "      <td>6.900</td>\n",
       "      <td>76.500</td>\n",
       "    </tr>\n",
       "    <tr>\n",
       "      <th>4</th>\n",
       "      <td>2016-01-01</td>\n",
       "      <td>[ 00:04 ]</td>\n",
       "      <td>346.0</td>\n",
       "      <td>6.867</td>\n",
       "      <td>76.667</td>\n",
       "    </tr>\n",
       "    <tr>\n",
       "      <th>...</th>\n",
       "      <td>...</td>\n",
       "      <td>...</td>\n",
       "      <td>...</td>\n",
       "      <td>...</td>\n",
       "      <td>...</td>\n",
       "    </tr>\n",
       "    <tr>\n",
       "      <th>525595</th>\n",
       "      <td>2016-12-31</td>\n",
       "      <td>[ 23:55 ]</td>\n",
       "      <td>456.0</td>\n",
       "      <td>8.000</td>\n",
       "      <td>88.000</td>\n",
       "    </tr>\n",
       "    <tr>\n",
       "      <th>525596</th>\n",
       "      <td>2016-12-31</td>\n",
       "      <td>[ 23:56 ]</td>\n",
       "      <td>460.0</td>\n",
       "      <td>8.000</td>\n",
       "      <td>87.800</td>\n",
       "    </tr>\n",
       "    <tr>\n",
       "      <th>525597</th>\n",
       "      <td>2016-12-31</td>\n",
       "      <td>[ 23:57 ]</td>\n",
       "      <td>458.0</td>\n",
       "      <td>8.000</td>\n",
       "      <td>87.600</td>\n",
       "    </tr>\n",
       "    <tr>\n",
       "      <th>525598</th>\n",
       "      <td>2016-12-31</td>\n",
       "      <td>[ 23:58 ]</td>\n",
       "      <td>424.0</td>\n",
       "      <td>8.000</td>\n",
       "      <td>87.400</td>\n",
       "    </tr>\n",
       "    <tr>\n",
       "      <th>525599</th>\n",
       "      <td>2016-12-31</td>\n",
       "      <td>[ 23:59 ]</td>\n",
       "      <td>415.0</td>\n",
       "      <td>8.000</td>\n",
       "      <td>87.000</td>\n",
       "    </tr>\n",
       "  </tbody>\n",
       "</table>\n",
       "<p>525600 rows × 5 columns</p>\n",
       "</div>"
      ],
      "text/plain": [
       "       Year-Month-Date       Time   Watt  Temp('C)  Humidity(%)\n",
       "0           2016-01-01  [ 00:00 ]  343.0     7.000       76.000\n",
       "1           2016-01-01  [ 00:01 ]  342.0     6.967       76.167\n",
       "2           2016-01-01  [ 00:02 ]  345.0     6.933       76.333\n",
       "3           2016-01-01  [ 00:03 ]  345.0     6.900       76.500\n",
       "4           2016-01-01  [ 00:04 ]  346.0     6.867       76.667\n",
       "...                ...        ...    ...       ...          ...\n",
       "525595      2016-12-31  [ 23:55 ]  456.0     8.000       88.000\n",
       "525596      2016-12-31  [ 23:56 ]  460.0     8.000       87.800\n",
       "525597      2016-12-31  [ 23:57 ]  458.0     8.000       87.600\n",
       "525598      2016-12-31  [ 23:58 ]  424.0     8.000       87.400\n",
       "525599      2016-12-31  [ 23:59 ]  415.0     8.000       87.000\n",
       "\n",
       "[525600 rows x 5 columns]"
      ]
     },
     "execution_count": 2,
     "metadata": {},
     "output_type": "execute_result"
    }
   ],
   "source": [
    "df = pd.read_csv(\"C:/Users/gun67/전력 프로젝트/preprocessing_data/2016_preprocessing_data\", encoding = \"utf-8-sig\")\n",
    "df"
   ]
  },
  {
   "cell_type": "markdown",
   "id": "788bda6c-db5a-4201-993a-81c75bc400a9",
   "metadata": {},
   "source": [
    "### Min-Max 스케일링  \n",
    "##### 데이터의 최솟값을 0, 최댓값을 1로 변환 ; 데이터의 분포를 유지하면서 스케일을 변경"
   ]
  },
  {
   "cell_type": "code",
   "execution_count": 3,
   "id": "9a090050-f414-4218-a6d0-74d145ac99d1",
   "metadata": {},
   "outputs": [
    {
     "name": "stdout",
     "output_type": "stream",
     "text": [
      "       Year-Month-Date       Time  Watt_minmax  Temp('C)_minmax  \\\n",
      "0           2016-01-01  [ 00:00 ]     0.023135         0.235294   \n",
      "1           2016-01-01  [ 00:01 ]     0.023019         0.234324   \n",
      "2           2016-01-01  [ 00:02 ]     0.023366         0.233324   \n",
      "3           2016-01-01  [ 00:03 ]     0.023366         0.232353   \n",
      "4           2016-01-01  [ 00:04 ]     0.023482         0.231382   \n",
      "...                ...        ...          ...              ...   \n",
      "525595      2016-12-31  [ 23:55 ]     0.036206         0.264706   \n",
      "525596      2016-12-31  [ 23:56 ]     0.036669         0.264706   \n",
      "525597      2016-12-31  [ 23:57 ]     0.036437         0.264706   \n",
      "525598      2016-12-31  [ 23:58 ]     0.032504         0.264706   \n",
      "525599      2016-12-31  [ 23:59 ]     0.031463         0.264706   \n",
      "\n",
      "        Humidity(%)_minmax  \n",
      "0                 0.655667  \n",
      "1                 0.658063  \n",
      "2                 0.660445  \n",
      "3                 0.662841  \n",
      "4                 0.665237  \n",
      "...                    ...  \n",
      "525595            0.827834  \n",
      "525596            0.824964  \n",
      "525597            0.822095  \n",
      "525598            0.819225  \n",
      "525599            0.813486  \n",
      "\n",
      "[525600 rows x 5 columns]\n"
     ]
    }
   ],
   "source": [
    "scaler = MinMaxScaler()\n",
    "df[\"Watt_minmax\"] = scaler.fit_transform(df[[\"Watt\"]])\n",
    "df[\"Temp('C)_minmax\"] = scaler.fit_transform(df[[\"Temp('C)\"]])\n",
    "df[\"Humidity(%)_minmax\"] = scaler.fit_transform(df[[\"Humidity(%)\"]])\n",
    "df_minmax = df[[\"Year-Month-Date\", \"Time\", \"Watt_minmax\", \"Temp('C)_minmax\", \"Humidity(%)_minmax\"]]\n",
    "print(df_minmax)"
   ]
  },
  {
   "cell_type": "markdown",
   "id": "58981852-7c13-48ae-9276-d8acd379de88",
   "metadata": {},
   "source": [
    "### 로버스트 스케일링"
   ]
  },
  {
   "cell_type": "markdown",
   "id": "429c4164-f541-4a56-88bb-d24b158c88ab",
   "metadata": {},
   "source": [
    "##### 중앙값(median)을 0, IQR을 1로 변환 ; 이상치에 덜 민감"
   ]
  },
  {
   "cell_type": "code",
   "execution_count": 4,
   "id": "4697e7e4-7a1f-45e5-92d6-e7e3e51c4649",
   "metadata": {},
   "outputs": [
    {
     "name": "stdout",
     "output_type": "stream",
     "text": [
      "       Year-Month-Date       Time  Watt_robust  Temp('C)_robust  \\\n",
      "0           2016-01-01  [ 00:00 ]     0.254386        -0.555556   \n",
      "1           2016-01-01  [ 00:01 ]     0.250000        -0.559222   \n",
      "2           2016-01-01  [ 00:02 ]     0.263158        -0.563000   \n",
      "3           2016-01-01  [ 00:03 ]     0.263158        -0.566667   \n",
      "4           2016-01-01  [ 00:04 ]     0.267544        -0.570333   \n",
      "...                ...        ...          ...              ...   \n",
      "525595      2016-12-31  [ 23:55 ]     0.750000        -0.444444   \n",
      "525596      2016-12-31  [ 23:56 ]     0.767544        -0.444444   \n",
      "525597      2016-12-31  [ 23:57 ]     0.758772        -0.444444   \n",
      "525598      2016-12-31  [ 23:58 ]     0.609649        -0.444444   \n",
      "525599      2016-12-31  [ 23:59 ]     0.570175        -0.444444   \n",
      "\n",
      "        Humidity(%)_robust  \n",
      "0                 0.000000  \n",
      "1                 0.008789  \n",
      "2                 0.017526  \n",
      "3                 0.026316  \n",
      "4                 0.035105  \n",
      "...                    ...  \n",
      "525595            0.631579  \n",
      "525596            0.621053  \n",
      "525597            0.610526  \n",
      "525598            0.600000  \n",
      "525599            0.578947  \n",
      "\n",
      "[525600 rows x 5 columns]\n"
     ]
    }
   ],
   "source": [
    "scaler = RobustScaler()\n",
    "df[\"Watt_robust\"] = scaler.fit_transform(df[[\"Watt\"]])\n",
    "df[\"Temp('C)_robust\"] = scaler.fit_transform(df[[\"Temp('C)\"]])\n",
    "df[\"Humidity(%)_robust\"] = scaler.fit_transform(df[[\"Humidity(%)\"]])\n",
    "df_robust = df[[\"Year-Month-Date\", \"Time\", \"Watt_robust\", \"Temp('C)_robust\", \"Humidity(%)_robust\"]]\n",
    "print(df_robust)"
   ]
  },
  {
   "cell_type": "markdown",
   "id": "b59addeb-3ab7-4ad5-85ed-1130a0e28833",
   "metadata": {},
   "source": [
    "### 로그 변환"
   ]
  },
  {
   "cell_type": "markdown",
   "id": "195e5990-81c2-4317-85b9-591eb0ded423",
   "metadata": {},
   "source": [
    "##### 데이터의 분포를 정규분포에 가깝게 만듦, 값이 0보다 클 때만 사용 가능  \n",
    "##### 온도 데이터는 값이 0보다 작거나 같을 경우가 존재하므로 다른 정규화를 사용"
   ]
  },
  {
   "cell_type": "code",
   "execution_count": 5,
   "id": "8bfa039a-9b76-4d53-8371-24f1a237ff19",
   "metadata": {},
   "outputs": [
    {
     "name": "stdout",
     "output_type": "stream",
     "text": [
      "       Year-Month-Date       Time  Watt_log  Temp('C)_minmax  Humidity(%)_log\n",
      "0           2016-01-01  [ 00:00 ]  5.840642         0.235294         4.343805\n",
      "1           2016-01-01  [ 00:01 ]  5.837730         0.234324         4.345972\n",
      "2           2016-01-01  [ 00:02 ]  5.846439         0.233324         4.348121\n",
      "3           2016-01-01  [ 00:03 ]  5.846439         0.232353         4.350278\n",
      "4           2016-01-01  [ 00:04 ]  5.849325         0.231382         4.352430\n",
      "...                ...        ...       ...              ...              ...\n",
      "525595      2016-12-31  [ 23:55 ]  6.124683         0.264706         4.488636\n",
      "525596      2016-12-31  [ 23:56 ]  6.133398         0.264706         4.486387\n",
      "525597      2016-12-31  [ 23:57 ]  6.129050         0.264706         4.484132\n",
      "525598      2016-12-31  [ 23:58 ]  6.052089         0.264706         4.481872\n",
      "525599      2016-12-31  [ 23:59 ]  6.030685         0.264706         4.477337\n",
      "\n",
      "[525600 rows x 5 columns]\n",
      "       Year-Month-Date       Time  Watt_log  Temp('C)_robust  Humidity(%)_log\n",
      "0           2016-01-01  [ 00:00 ]  5.840642        -0.555556         4.343805\n",
      "1           2016-01-01  [ 00:01 ]  5.837730        -0.559222         4.345972\n",
      "2           2016-01-01  [ 00:02 ]  5.846439        -0.563000         4.348121\n",
      "3           2016-01-01  [ 00:03 ]  5.846439        -0.566667         4.350278\n",
      "4           2016-01-01  [ 00:04 ]  5.849325        -0.570333         4.352430\n",
      "...                ...        ...       ...              ...              ...\n",
      "525595      2016-12-31  [ 23:55 ]  6.124683        -0.444444         4.488636\n",
      "525596      2016-12-31  [ 23:56 ]  6.133398        -0.444444         4.486387\n",
      "525597      2016-12-31  [ 23:57 ]  6.129050        -0.444444         4.484132\n",
      "525598      2016-12-31  [ 23:58 ]  6.052089        -0.444444         4.481872\n",
      "525599      2016-12-31  [ 23:59 ]  6.030685        -0.444444         4.477337\n",
      "\n",
      "[525600 rows x 5 columns]\n"
     ]
    }
   ],
   "source": [
    "df[\"Watt_log\"] = np.log(df[\"Watt\"] + 1)\n",
    "df[\"Humidity(%)_log\"] = np.log(df[\"Humidity(%)\"] + 1)\n",
    "\n",
    "# 전력값과 습도는 log 변환, 온도는 minmax 변환\n",
    "df_log_minmax = df[[\"Year-Month-Date\", \"Time\", \"Watt_log\", \"Temp('C)_minmax\", \"Humidity(%)_log\"]]\n",
    "print(df_log_minmax)\n",
    "\n",
    "# 전력값과 습도는 log 변환, 온도는 robust 변환\n",
    "df_log_robust = df[[\"Year-Month-Date\", \"Time\", \"Watt_log\", \"Temp('C)_robust\", \"Humidity(%)_log\"]]\n",
    "print(df_log_robust)"
   ]
  },
  {
   "cell_type": "markdown",
   "id": "d0ecb368-9c51-4237-95a3-eddfc7161643",
   "metadata": {},
   "source": [
    "### 제곱근 변환"
   ]
  },
  {
   "cell_type": "markdown",
   "id": "a4b7774e-baeb-4580-8d19-effcb3823b4f",
   "metadata": {},
   "source": [
    "##### 데이터의 분포를 정규분포에 가깝게 만듦, 값이 0보다 클 때만 사용 가능  \n",
    "##### 이 또한 온도 데이터는 다른 정규화를 사용"
   ]
  },
  {
   "cell_type": "code",
   "execution_count": 6,
   "id": "3012080c-11f9-4e0b-b996-e44ca8c0d4b9",
   "metadata": {},
   "outputs": [
    {
     "name": "stdout",
     "output_type": "stream",
     "text": [
      "       Year-Month-Date       Time  Watt_sqrt  Temp('C)_minmax  \\\n",
      "0           2016-01-01  [ 00:00 ]  18.520259         0.235294   \n",
      "1           2016-01-01  [ 00:01 ]  18.493242         0.234324   \n",
      "2           2016-01-01  [ 00:02 ]  18.574176         0.233324   \n",
      "3           2016-01-01  [ 00:03 ]  18.574176         0.232353   \n",
      "4           2016-01-01  [ 00:04 ]  18.601075         0.231382   \n",
      "...                ...        ...        ...              ...   \n",
      "525595      2016-12-31  [ 23:55 ]  21.354157         0.264706   \n",
      "525596      2016-12-31  [ 23:56 ]  21.447611         0.264706   \n",
      "525597      2016-12-31  [ 23:57 ]  21.400935         0.264706   \n",
      "525598      2016-12-31  [ 23:58 ]  20.591260         0.264706   \n",
      "525599      2016-12-31  [ 23:59 ]  20.371549         0.264706   \n",
      "\n",
      "        Humidity(%)_sqrt  \n",
      "0              18.520259  \n",
      "1              18.493242  \n",
      "2              18.574176  \n",
      "3              18.574176  \n",
      "4              18.601075  \n",
      "...                  ...  \n",
      "525595         21.354157  \n",
      "525596         21.447611  \n",
      "525597         21.400935  \n",
      "525598         20.591260  \n",
      "525599         20.371549  \n",
      "\n",
      "[525600 rows x 5 columns]\n",
      "       Year-Month-Date       Time  Watt_sqrt  Temp('C)_robust  \\\n",
      "0           2016-01-01  [ 00:00 ]  18.520259        -0.555556   \n",
      "1           2016-01-01  [ 00:01 ]  18.493242        -0.559222   \n",
      "2           2016-01-01  [ 00:02 ]  18.574176        -0.563000   \n",
      "3           2016-01-01  [ 00:03 ]  18.574176        -0.566667   \n",
      "4           2016-01-01  [ 00:04 ]  18.601075        -0.570333   \n",
      "...                ...        ...        ...              ...   \n",
      "525595      2016-12-31  [ 23:55 ]  21.354157        -0.444444   \n",
      "525596      2016-12-31  [ 23:56 ]  21.447611        -0.444444   \n",
      "525597      2016-12-31  [ 23:57 ]  21.400935        -0.444444   \n",
      "525598      2016-12-31  [ 23:58 ]  20.591260        -0.444444   \n",
      "525599      2016-12-31  [ 23:59 ]  20.371549        -0.444444   \n",
      "\n",
      "        Humidity(%)_sqrt  \n",
      "0              18.520259  \n",
      "1              18.493242  \n",
      "2              18.574176  \n",
      "3              18.574176  \n",
      "4              18.601075  \n",
      "...                  ...  \n",
      "525595         21.354157  \n",
      "525596         21.447611  \n",
      "525597         21.400935  \n",
      "525598         20.591260  \n",
      "525599         20.371549  \n",
      "\n",
      "[525600 rows x 5 columns]\n"
     ]
    }
   ],
   "source": [
    "df[\"Watt_sqrt\"] = np.sqrt(df[\"Watt\"])\n",
    "df[\"Humidity(%)_sqrt\"] = np.sqrt(df[\"Watt\"])\n",
    "\n",
    "# 전력값과 습도는 sqrt 변환, 온도는 minmax 변환\n",
    "df_sqrt_minmax = df[[\"Year-Month-Date\", \"Time\", \"Watt_sqrt\", \"Temp('C)_minmax\", \"Humidity(%)_sqrt\"]]\n",
    "print(df_sqrt_minmax)\n",
    "\n",
    "# 전력값과 습도는 sqrt 변환, 온도는 robust 변환\n",
    "df_sqrt_robust = df[[\"Year-Month-Date\", \"Time\", \"Watt_sqrt\", \"Temp('C)_robust\", \"Humidity(%)_sqrt\"]]\n",
    "print(df_sqrt_robust)"
   ]
  },
  {
   "cell_type": "code",
   "execution_count": 7,
   "id": "fd92c47e-6198-4920-9f7a-0e8d00b6aee2",
   "metadata": {},
   "outputs": [],
   "source": [
    "df_minmax.to_csv(\"C:/Users/gun67/전력 프로젝트/2016_normalization_data/2016_minmax_data\", index = False, encoding = \"utf-8-sig\")"
   ]
  },
  {
   "cell_type": "code",
   "execution_count": 8,
   "id": "659b6c9a-f0d7-4273-8fd5-e12662dbbb13",
   "metadata": {},
   "outputs": [],
   "source": [
    "df_robust.to_csv(\"C:/Users/gun67/전력 프로젝트/2016_normalization_data/2016_robust_data\", index = False, encoding = \"utf-8-sig\")"
   ]
  },
  {
   "cell_type": "code",
   "execution_count": 9,
   "id": "a73cea5a-9bd5-430d-b0c1-6354339bfa0c",
   "metadata": {},
   "outputs": [],
   "source": [
    "df_log_minmax.to_csv(\"C:/Users/gun67/전력 프로젝트/2016_normalization_data/2016_log_minmax_data\", index = False, encoding = \"utf-8-sig\")"
   ]
  },
  {
   "cell_type": "code",
   "execution_count": 10,
   "id": "9fafbef9-f3c7-4c1b-b09b-f4177001ab5a",
   "metadata": {},
   "outputs": [],
   "source": [
    "df_log_robust.to_csv(\"C:/Users/gun67/전력 프로젝트/2016_normalization_data/2016_log_robust_data\", index = False, encoding = \"utf-8-sig\")"
   ]
  },
  {
   "cell_type": "code",
   "execution_count": 11,
   "id": "f3e32a5f-6e13-4da9-acca-b1222423ede2",
   "metadata": {},
   "outputs": [],
   "source": [
    "df_sqrt_minmax.to_csv(\"C:/Users/gun67/전력 프로젝트/2016_normalization_data/2016_sqrt_minmax_data\", index = False, encoding = \"utf-8-sig\")"
   ]
  },
  {
   "cell_type": "code",
   "execution_count": 12,
   "id": "5596d714-9bb3-4f3e-9ada-dbcdbd0cde0f",
   "metadata": {},
   "outputs": [],
   "source": [
    "df_sqrt_robust.to_csv(\"C:/Users/gun67/전력 프로젝트/2016_normalization_data/2016_sqrt_robust_data\", index = False, encoding = \"utf-8-sig\")"
   ]
  }
 ],
 "metadata": {
  "kernelspec": {
   "display_name": "Python 3 (ipykernel)",
   "language": "python",
   "name": "python3"
  },
  "language_info": {
   "codemirror_mode": {
    "name": "ipython",
    "version": 3
   },
   "file_extension": ".py",
   "mimetype": "text/x-python",
   "name": "python",
   "nbconvert_exporter": "python",
   "pygments_lexer": "ipython3",
   "version": "3.11.7"
  }
 },
 "nbformat": 4,
 "nbformat_minor": 5
}
